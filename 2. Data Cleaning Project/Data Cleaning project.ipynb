{
    "metadata": {
        "kernelspec": {
            "name": "SQL",
            "display_name": "SQL",
            "language": "sql"
        },
        "language_info": {
            "name": "sql",
            "version": ""
        }
    },
    "nbformat_minor": 2,
    "nbformat": 4,
    "cells": [
        {
            "cell_type": "markdown",
            "source": [
                "# **DATA CLEANING PROJECT**"
            ],
            "metadata": {
                "azdata_cell_guid": "556df83f-3b45-4043-a8c7-e84598a41680"
            },
            "attachments": {}
        },
        {
            "cell_type": "markdown",
            "source": [
                "## **SUMARRY**\n",
                "\n",
                "### **<u>Objectives</u>**\n",
                "\n",
                "- To make dirty data in to cleaned data\n",
                "- Remove all needless data\n",
                "- To make complete data support for analysis process \n",
                "- a completely objective table  contains 3 column ( NAICS\\_Industry\\_Decription , LookupCodes, and Sectors)\n",
                "\n",
                "### **<u>Dataset</u>**\n",
                "\n",
                "- Using Table of size standards dataset from [Table of size standards (sba.gov)](https://www.sba.gov/document/support-table-size-standards)\n",
                "- In **table of size standards sheet** contain 2 column ( NAICS\\_Codes and NAICS\\_Industry\\_Decription)\n",
                "\n",
                "**<u>Tools</u>**\n",
                "\n",
                "- SSIS Package (Visual Studio 2019) to import dataset ( CSV file) into database( MS SQL server)\n",
                "- MS SQL server (Azure data studio) to write code chunks for cleaning data and write documentations"
            ],
            "metadata": {
                "azdata_cell_guid": "7ec26795-e99f-463f-a5fd-8f91176869dc"
            },
            "attachments": {}
        },
        {
            "cell_type": "markdown",
            "source": [
                "> **First glance at Table of size standards  Dataset**"
            ],
            "metadata": {
                "azdata_cell_guid": "74b076ea-f9cb-4401-aecd-5d3c9e54e8b5"
            },
            "attachments": {}
        },
        {
            "cell_type": "code",
            "source": [
                "SELECT * \r\n",
                "FROM Sba_industry_standard"
            ],
            "metadata": {
                "azdata_cell_guid": "0ae86c91-919c-461a-8048-0e2f372bab96",
                "language": "sql",
                "tags": []
            },
            "outputs": [],
            "execution_count": null
        },
        {
            "cell_type": "markdown",
            "source": [
                "> **Select all data we need to use for create new table**"
            ],
            "metadata": {
                "azdata_cell_guid": "69d2c9c2-8a0c-44e8-9661-4d69d31e078d"
            },
            "attachments": {}
        },
        {
            "cell_type": "code",
            "source": [
                "SELECT \r\n",
                "    [NAICS _Codes], \r\n",
                "    [NAICS _Industry _Description]\r\n",
                "FROM Sba_industry_standard \r\n",
                "WHERE [NAICS _Codes] =' ' -- this is filter to remove all outliers because every Row in NAICS_Industry_Description column also have blank in NAICS_Codes column\r\n",
                ""
            ],
            "metadata": {
                "azdata_cell_guid": "58d56ba2-756d-4932-8e46-6767da49b5e1",
                "language": "sql"
            },
            "outputs": [],
            "execution_count": null
        },
        {
            "cell_type": "markdown",
            "source": [
                "> **Create a new LookupCodes column from NAICS\\_Industry\\_Description column**"
            ],
            "metadata": {
                "language": "sql",
                "azdata_cell_guid": "b26d2bdd-257c-4a6d-8852-499b601969e8"
            },
            "attachments": {}
        },
        {
            "cell_type": "code",
            "source": [
                "SELECT \r\n",
                "    [NAICS _Industry _Description],\r\n",
                "    SUBSTRING([NAICS _Industry _Description],8,2) \r\n",
                "    -- to extract code numbers from NAICS_Industry_Description column\r\n",
                "FROM Sba_industr_standard \r\n",
                "WHERE [NAICS _Codes] =' '"
            ],
            "metadata": {
                "language": "sql",
                "azdata_cell_guid": "fcd5838b-4874-444a-ad7e-1ab358af4bae",
                "tags": []
            },
            "outputs": [],
            "execution_count": null
        },
        {
            "cell_type": "markdown",
            "source": [
                "> **Create a new Sectors column from NAICS\\_Industry\\_Description column**"
            ],
            "metadata": {
                "language": "sql",
                "azdata_cell_guid": "c7d7bd01-3778-492e-8fb1-ef48bf0f7be4"
            },
            "attachments": {}
        },
        {
            "cell_type": "code",
            "source": [
                "SELECT \r\n",
                "    [NAICS _Industry _Description],\r\n",
                "    SUBSTRING([NAICS _Industry _Description],8,2) AS LookupCocdes,\r\n",
                "    SUBSTRING([NAICS _Industry _Description],CHARINDEX('–',[NAICS _Industry _Description]) +1,LEN(([NAICS _Industry _Description]))) AS Sectors \r\n",
                "    -- to extract string from NAICS_Industry_Description column into a new Sectors Column\r\n",
                "FROM Sba_industry_standard \r\n",
                "WHERE [NAICS _Codes] =' '"
            ],
            "metadata": {
                "language": "sql",
                "azdata_cell_guid": "c018f253-6f99-4711-901d-c706a2d2e27e"
            },
            "outputs": [],
            "execution_count": null
        },
        {
            "cell_type": "markdown",
            "source": [
                "> **Remove Space before a new string in Sectors column**"
            ],
            "metadata": {
                "language": "sql",
                "azdata_cell_guid": "61a5e300-cd2b-4d51-b69d-db81a52f23fd"
            },
            "attachments": {}
        },
        {
            "cell_type": "code",
            "source": [
                "SELECT \r\n",
                "    [NAICS _Industry _Description],\r\n",
                "    SUBSTRING([NAICS _Industry _Description],8,2) AS LookupCocdes,\r\n",
                "    ltrim(SUBSTRING([NAICS _Industry _Description],CHARINDEX('–',[NAICS _Industry _Description]) +1,LEN(([NAICS _Industry _Description])))) AS Sectors\r\n",
                "    --use ltrim() function because space in the left side of string\r\n",
                "FROM Sba_industry_standard \r\n",
                "WHERE [NAICS _Codes] =' '"
            ],
            "metadata": {
                "language": "sql",
                "azdata_cell_guid": "de0bf90e-16a2-499c-b276-066dda28b77b"
            },
            "outputs": [],
            "execution_count": null
        },
        {
            "cell_type": "markdown",
            "source": [
                "> **Remove all NA values and outliers values in LookupCodes column AND create a new table (sba\\_NAICS\\_Codes\\_Sectors)**"
            ],
            "metadata": {
                "language": "sql",
                "azdata_cell_guid": "9e9f1a97-876f-4835-83a2-5265f65e2488"
            },
            "attachments": {}
        },
        {
            "cell_type": "code",
            "source": [
                "SELECT*\r\n",
                "INTO sba_NAICS_codes_sectors -- Create a new table(sba_NAICS_Codes_sectors) by using Subquery code chunk\r\n",
                "FROM \r\n",
                "(\r\n",
                "\r\n",
                "SELECT \r\n",
                "    [NAICS _Industry _Description],\r\n",
                "    SUBSTRING([NAICS _Industry _Description],8,2) AS LookupCocdes,\r\n",
                "    ltrim(SUBSTRING([NAICS _Industry _Description],CHARINDEX('–',[NAICS _Industry _Description]) +1,LEN(([NAICS _Industry _Description])))) AS Sectors\r\n",
                "FROM Sba_industry_standard \r\n",
                "WHERE [NAICS _Codes] =' '\r\n",
                "\r\n",
                ") AS temp_table\r\n",
                "WHERE LookupCocdes != 'NA' AND LookupCocdes != 'bu' -- to remove NA values and outlier Values(bu) in LookupCodes column"
            ],
            "metadata": {
                "language": "sql",
                "azdata_cell_guid": "99399f37-a694-4567-b1fd-0c903ddcb5b5"
            },
            "outputs": [],
            "execution_count": null
        },
        {
            "cell_type": "markdown",
            "source": [
                "> **First Glance at a new table (sba\\_NAICS\\_codes\\_sectors) have been created**"
            ],
            "metadata": {
                "language": "sql",
                "azdata_cell_guid": "3abc2fd2-a644-4b64-a3ac-dbc5e78f31bf"
            },
            "attachments": {}
        },
        {
            "cell_type": "code",
            "source": [
                "SELECT *\r\n",
                "FROM sba_NAICS_codes_sectors\r\n",
                ""
            ],
            "metadata": {
                "language": "sql",
                "azdata_cell_guid": "6e98cf17-0d1b-4aad-a01c-e159831bbc11",
                "tags": []
            },
            "outputs": [],
            "execution_count": null
        },
        {
            "cell_type": "markdown",
            "source": [
                "> **We realize some missing codes those are 32, 43, 49 in LookupCodes Column**\n",
                "\n",
                "> **Insert missing values into a new table (sba\\_NAICS\\_codes\\_sectors)**"
            ],
            "metadata": {
                "language": "sql",
                "azdata_cell_guid": "c57fe456-1acb-4a46-b057-6abc01f5ac71"
            },
            "attachments": {}
        },
        {
            "cell_type": "code",
            "source": [
                "INSERT INTO sba_NAICS_codes_sectors\r\n",
                "VALUES  ('Sector 31 – 33 – Manufacturing',32,'Manufacturing'),\r\n",
                "        ('Sector 44 - 45 – Retail Trade',43,'Retail Trade'),\r\n",
                "        ('Sector 48 - 49 – Transportation and Warehousing',49,'Transportation and Warehousing')"
            ],
            "metadata": {
                "language": "sql",
                "azdata_cell_guid": "331d72ef-03af-44b2-b3a4-2cf293a37028",
                "tags": []
            },
            "outputs": [],
            "execution_count": null
        },
        {
            "cell_type": "markdown",
            "source": [
                "> **We realize in a sectors column have an error string ( \"33-Manufacturing\")**\n",
                "\n",
                "> **Fix  an error string ( \"33-Manufacturing\") by using UPDATE function**"
            ],
            "metadata": {
                "language": "sql",
                "azdata_cell_guid": "62be2e69-1fdf-4a07-a7bd-06e5d27b3114"
            },
            "attachments": {}
        },
        {
            "cell_type": "code",
            "source": [
                "UPDATE sba_NAICS_codes_sectors\r\n",
                "SET Sectors ='Manufacturing'\r\n",
                "WHERE [NAICS _Industry _Description] = 'Sector 31 – 33 – Manufacturing'"
            ],
            "metadata": {
                "language": "sql",
                "azdata_cell_guid": "eb13cf38-060f-457a-9b8f-e2c8e16ab76b"
            },
            "outputs": [],
            "execution_count": null
        },
        {
            "cell_type": "markdown",
            "source": [
                "> **Select all data from a completely table have just been created**\n",
                "\n",
                ">"
            ],
            "metadata": {
                "language": "sql",
                "azdata_cell_guid": "6bc06094-266b-4e0c-bb26-0752ac70c5c3"
            },
            "attachments": {}
        },
        {
            "cell_type": "code",
            "source": [
                "SELECT *\r\n",
                "FROM sba_NAICS_codes_sectors\r\n",
                "ORDER BY LookupCocdes\r\n",
                "-- This is a completely objective table that we need to create, it's contain 3 column (NAICS_Industry_Description, LookupCodes, Sectors)"
            ],
            "metadata": {
                "language": "sql",
                "azdata_cell_guid": "171d026f-b0cc-45a7-b804-40e2eb3d0518"
            },
            "outputs": [],
            "execution_count": null
        }
    ]
}