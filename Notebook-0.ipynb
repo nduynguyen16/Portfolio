{
    "metadata": {
        "kernelspec": {
            "name": "SQL",
            "display_name": "SQL",
            "language": "sql"
        },
        "language_info": {
            "name": "sql",
            "version": ""
        }
    },
    "nbformat_minor": 2,
    "nbformat": 4,
    "cells": [
        {
            "cell_type": "code",
            "source": [
                "SELECT *\n",
                "FROM BegInvDec"
            ],
            "metadata": {
                "azdata_cell_guid": "cf00e859-f15f-4f89-8422-62d67beff0e3",
                "language": "sql"
            },
            "outputs": [],
            "execution_count": null
        }
    ]
}