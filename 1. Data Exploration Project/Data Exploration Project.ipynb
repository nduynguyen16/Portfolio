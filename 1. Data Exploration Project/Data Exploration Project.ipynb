{
    "cells": [
        {
            "attachments": {},
            "cell_type": "markdown",
            "metadata": {
                "azdata_cell_guid": "881c13ed-3334-4ae4-84d5-aee07328ef02"
            },
            "source": [
                "# **DATA EXPLORATION PROJECT**"
            ]
        },
        {
            "attachments": {},
            "cell_type": "markdown",
            "metadata": {
                "azdata_cell_guid": "d9ae884b-a40b-4951-9eb3-5c2e9bc5d0b8"
            },
            "source": [
                "## **SUMMARY**\n",
                "\n",
                "### **Objectives**\n",
                "\n",
                "- Find out Covid information related to Vietnam and Southeast Asia\n",
                "- Find out the Vaccination Status in Vietnam and Southeast Asia \n",
                "- Find out what countries with the highest number of people fully vaccinated in Southeast Asia\n",
                "- Find out what countries with the highest death rate and the highest number of people got covid \n",
                "\n",
                "### **Dataset**\n",
                "\n",
                "- Use World Covid dataset from [https://ourworldindata.org/covid-deaths](https://ourworldindata.org/covid-deaths)\n",
                "\n",
                "### **Tools**\n",
                "\n",
                "- SSIS Package (Visual Studio 2019) to import dataset ( CSV file) into database( MS SQL server)\n",
                "- MS SQL server (Azure data studio) to write code chunks for exploring data and write documentation"
            ]
        },
        {
            "attachments": {},
            "cell_type": "markdown",
            "metadata": {
                "azdata_cell_guid": "56c21429-fb77-4f0c-a0c8-af223d94b8af"
            },
            "source": [
                "> **Select all new COVID Data**"
            ]
        },
        {
            "cell_type": "code",
            "execution_count": null,
            "metadata": {
                "azdata_cell_guid": "b29ddd45-b080-4593-9d71-61b0a778be01",
                "language": "sql",
                "tags": []
            },
            "outputs": [],
            "source": [
                "SELECT * \n",
                "FROM CovidData test"
            ]
        },
        {
            "attachments": {},
            "cell_type": "markdown",
            "metadata": {
                "azdata_cell_guid": "f9588109-51bc-4cca-992d-1d958dd76664"
            },
            "source": [
                "## **VIETNAM AREA**"
            ]
        },
        {
            "attachments": {},
            "cell_type": "markdown",
            "metadata": {
                "azdata_cell_guid": "d305fd05-45e8-4d75-bbbc-bad4405544c1"
            },
            "source": [
                "> **Select all Covid Data in Vietnam that we going to be using**"
            ]
        },
        {
            "cell_type": "code",
            "execution_count": null,
            "metadata": {
                "azdata_cell_guid": "9c718653-ac4d-4193-b0d6-990e77781c83",
                "language": "sql",
                "tags": []
            },
            "outputs": [],
            "source": [
                "SELECT \n",
                "\tLocation, \n",
                "\tdate, \n",
                "\ttotal_cases, \n",
                "\tnew_cases, \n",
                "\ttotal_deaths, \n",
                "\tnew_deaths, \n",
                "\tpopulation\n",
                "FROM CovidData\n",
                "WHERE Location = 'Vietnam'"
            ]
        },
        {
            "attachments": {},
            "cell_type": "markdown",
            "metadata": {
                "azdata_cell_guid": "6ba6642d-70d6-430b-aa02-7c734603944e",
                "language": "sql"
            },
            "source": [
                "> **Looking at The total cases and Total Deaths in Vietnam**\n",
                "\n",
                "> **Show how many percent of total cases are death in Vietnam**"
            ]
        },
        {
            "cell_type": "code",
            "execution_count": null,
            "metadata": {
                "azdata_cell_guid": "4b4ba769-7f0c-4d8f-aeba-7a1a742322fd",
                "language": "sql",
                "tags": []
            },
            "outputs": [],
            "source": [
                "SELECT \n",
                "\tLocation, \n",
                "\tdate, \n",
                "\ttotal_cases, \n",
                "\ttotal_deaths , \n",
                "\tROUND((total_deaths/total_cases)*100,2) AS Deaths_percentage\n",
                "FROM CovidData\n",
                "WHERE Location = 'Vietnam'\n",
                "ORDER BY Deaths_percentage DESC"
            ]
        },
        {
            "attachments": {},
            "cell_type": "markdown",
            "metadata": {
                "azdata_cell_guid": "28953f39-67ac-49ae-b7c4-8a0e78440e78",
                "language": "sql"
            },
            "source": [
                "> **Looking at total cases and total population in Vietnam**\n",
                "\n",
                "> **Show how many percent of total population got covid**"
            ]
        },
        {
            "cell_type": "code",
            "execution_count": null,
            "metadata": {
                "azdata_cell_guid": "70a7dbd1-63ec-4a53-b25d-a09fd6e8727c",
                "language": "sql"
            },
            "outputs": [],
            "source": [
                "SELECT \n",
                "\tLocation, \n",
                "\tdate, \n",
                "\ttotal_cases, \n",
                "\tpopulation , \n",
                "\tROUND((total_cases/population)*100,2) AS Cases_percentage\n",
                "FROM CovidData\n",
                "WHERE Location = 'Vietnam'\n",
                "ORDER BY Cases_percentage DESC"
            ]
        },
        {
            "attachments": {},
            "cell_type": "markdown",
            "metadata": {
                "azdata_cell_guid": "f492619a-cab7-4818-9dde-5d40603e9b4f",
                "language": "sql"
            },
            "source": [
                "> **Looking at Vaccination Status in Vietnam**\n",
                "\n",
                ">"
            ]
        },
        {
            "cell_type": "code",
            "execution_count": null,
            "metadata": {
                "azdata_cell_guid": "b9d2e89b-6d22-4734-96c7-4e7cb995b8f8",
                "language": "sql"
            },
            "outputs": [],
            "source": [
                "SELECT\n",
                "\tLocation,\n",
                "\tYear(date) AS Year,\n",
                "\tMAX(total_vaccinations) AS total_Vaccinations,\n",
                "\tMAX(people_fully_vaccinated) AS total_peopleFullyVaccinated,\n",
                "\tROUND(MAX((people_fully_vaccinated/population)),2) AS PeopleFullyVaccinated_Percentage\n",
                "FROM CovidData\n",
                "WHERE location ='Vietnam'\n",
                "GROUP BY \n",
                "\tLocation,\n",
                "\tYear(date) \n",
                "ORDER BY 5 DESC"
            ]
        },
        {
            "attachments": {},
            "cell_type": "markdown",
            "metadata": {
                "azdata_cell_guid": "53d8dfa3-ae43-438f-8622-8b4afdfd727d",
                "language": "sql"
            },
            "source": [
                "## **SOUTHEAST ASIA AREA**"
            ]
        },
        {
            "attachments": {},
            "cell_type": "markdown",
            "metadata": {
                "azdata_cell_guid": "a7c8bf59-ba17-4615-95c8-09158ebea2b7",
                "language": "sql"
            },
            "source": [
                "> **Looking at countries with the highest infection rate compared to the population per country in Southeast Asia area**"
            ]
        },
        {
            "cell_type": "code",
            "execution_count": null,
            "metadata": {
                "azdata_cell_guid": "d7017dce-449e-42f5-bde8-603dbb367b50",
                "language": "sql",
                "tags": []
            },
            "outputs": [],
            "source": [
                "SELECT \n",
                "\tLocation, \n",
                "\tpopulation,  \n",
                "\tMAX(total_cases) AS HighestInfection, \n",
                "\tROUND(MAX((total_cases/population)*100),2) AS populationInfection_percentage\n",
                "FROM CovidData\n",
                "WHERE location IN(  'Thailand','Vietnam', \n",
                "\t\t\t\t\t'Cambodia','Myanmar',\n",
                "\t\t\t\t\t'Laos','singapore',\n",
                "\t\t\t\t\t'Brunei','timor',\n",
                "\t\t\t\t\t'philippines','Indonesia',\n",
                "\t\t\t\t\t'Malaysia')\n",
                "GROUP BY Location, population\n",
                "ORDER BY 4 DESC"
            ]
        },
        {
            "attachments": {},
            "cell_type": "markdown",
            "metadata": {
                "azdata_cell_guid": "139a65fc-099b-4e7e-aa54-3789050cb1f7",
                "language": "sql"
            },
            "source": [
                "> **Showing Countries with the highest deaths rate per population in Southeast Asia area**"
            ]
        },
        {
            "cell_type": "code",
            "execution_count": null,
            "metadata": {
                "azdata_cell_guid": "a3fd747c-e05d-4a1d-af4d-fdb4d383a425",
                "language": "sql",
                "tags": []
            },
            "outputs": [],
            "source": [
                "SELECT \n",
                "\tLocation, \n",
                "\tpopulation,  \n",
                "\tMAX(Cast(total_deaths as int)) AS HighestDeaths, \n",
                "\tROUND(MAX(total_Deaths/population)*100,3) AS populationDeaths_percentage\n",
                "FROM CovidData\n",
                "WHERE location IN(  'Thailand','Vietnam', \n",
                "\t\t\t\t\t'Cambodia','Myanmar',\n",
                "\t\t\t\t\t'Laos','singapore',\n",
                "\t\t\t\t\t'Brunei','timor',\n",
                "\t\t\t\t\t'philippines','Indonesia',\n",
                "\t\t\t\t\t'Malaysia')\n",
                "GROUP BY Location, population\n",
                "ORDER BY 4 DESC"
            ]
        },
        {
            "attachments": {},
            "cell_type": "markdown",
            "metadata": {
                "azdata_cell_guid": "0bda1b6b-a9fb-4a80-a2ef-5f0390b838b4",
                "language": "sql"
            },
            "source": [
                "> **Looking at Vaccination Status in Southeast Asia area**"
            ]
        },
        {
            "cell_type": "code",
            "execution_count": null,
            "metadata": {
                "azdata_cell_guid": "b1e6b297-7faf-4e7e-94c2-5ea526e9b7ab",
                "language": "sql",
                "tags": []
            },
            "outputs": [],
            "source": [
                "SELECT\n",
                "\tLocation,\n",
                "\tYear(date) AS Year,\n",
                "\tMAX(total_vaccinations) AS total_Vaccinations,\n",
                "\tMAX(people_fully_vaccinated) AS total_peopleFullyVaccinated,\n",
                "\tROUND(MAX((people_fully_vaccinated/population)),2) AS PeopleFullyVaccinated_Percentage\n",
                "FROM CovidData\n",
                "WHERE location IN(  'Thailand','Vietnam', \n",
                "\t\t\t\t\t'Cambodia','Myanmar',\n",
                "\t\t\t\t\t'Laos','singapore',\n",
                "\t\t\t\t\t'Brunei','timor',\n",
                "\t\t\t\t\t'philippines','Indonesia',\n",
                "\t\t\t\t\t'Malaysia')\n",
                "GROUP BY \n",
                "\tLocation,\n",
                "\tYear(date) \n",
                "ORDER BY 1, 2 DESC"
            ]
        }
    ],
    "metadata": {
        "kernelspec": {
            "display_name": "SQL",
            "language": "sql",
            "name": "SQL"
        },
        "language_info": {
            "name": "sql",
            "version": ""
        }
    },
    "nbformat": 4,
    "nbformat_minor": 2
}
