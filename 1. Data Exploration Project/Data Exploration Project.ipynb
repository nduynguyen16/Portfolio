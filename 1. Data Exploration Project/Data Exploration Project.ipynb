{
    "metadata": {
        "kernelspec": {
            "name": "SQL",
            "display_name": "SQL",
            "language": "sql"
        },
        "language_info": {
            "name": "sql",
            "version": ""
        }
    },
    "nbformat_minor": 2,
    "nbformat": 4,
    "cells": [
        {
            "cell_type": "markdown",
            "source": [
                "# **DATA EXPLORATION PROJECT**"
            ],
            "metadata": {
                "azdata_cell_guid": "881c13ed-3334-4ae4-84d5-aee07328ef02"
            },
            "attachments": {}
        },
        {
            "cell_type": "markdown",
            "source": [
                "## **SUMMARY**\n",
                "\n",
                "### **Objectives**\n",
                "\n",
                "- Find out Covid information related to Vietnam and Southeast Asia\n",
                "- Find out the Vaccination Status in Vietnam and Southeast Asia \n",
                "- Find out what countries with the highest number of people fully vaccinated in Southeast Asia\n",
                "- Find out what countries with the highest death rate and the highest number of people got covid \n",
                "\n",
                "### **Dataset**\n",
                "\n",
                "- Use World Covid dataset from [https://ourworldindata.org/covid-deaths](https://ourworldindata.org/covid-deaths)\n",
                "\n",
                "### **Tools**\n",
                "\n",
                "- SSIS Package (Visual Studio 2019) to import dataset ( CSV file) into database( MS SQL server)\n",
                "- MS SQL server (Azure data studio) to write code chunks for exploring data and write documentation"
            ],
            "metadata": {
                "azdata_cell_guid": "d9ae884b-a40b-4951-9eb3-5c2e9bc5d0b8"
            },
            "attachments": {}
        },
        {
            "cell_type": "markdown",
            "source": [
                "> **Select all new COVID Data**"
            ],
            "metadata": {
                "azdata_cell_guid": "56c21429-fb77-4f0c-a0c8-af223d94b8af"
            },
            "attachments": {}
        },
        {
            "cell_type": "code",
            "source": [
                "SELECT * \r\n",
                "FROM CovidData"
            ],
            "metadata": {
                "azdata_cell_guid": "b29ddd45-b080-4593-9d71-61b0a778be01",
                "language": "sql",
                "tags": []
            },
            "outputs": [],
            "execution_count": null
        },
        {
            "cell_type": "markdown",
            "source": [
                "## **VIETNAM AREA**"
            ],
            "metadata": {
                "azdata_cell_guid": "f9588109-51bc-4cca-992d-1d958dd76664"
            },
            "attachments": {}
        },
        {
            "cell_type": "markdown",
            "source": [
                "> **Select all Covid Data in Vietnam that we going to be using**"
            ],
            "metadata": {
                "azdata_cell_guid": "d305fd05-45e8-4d75-bbbc-bad4405544c1"
            },
            "attachments": {}
        },
        {
            "cell_type": "code",
            "source": [
                "SELECT \r\n",
                "\tLocation, \r\n",
                "\tdate, \r\n",
                "\ttotal_cases, \r\n",
                "\tnew_cases, \r\n",
                "\ttotal_deaths, \r\n",
                "\tnew_deaths, \r\n",
                "\tpopulation\r\n",
                "FROM CovidData\r\n",
                "WHERE Location = 'Vietnam'"
            ],
            "metadata": {
                "azdata_cell_guid": "9c718653-ac4d-4193-b0d6-990e77781c83",
                "language": "sql",
                "tags": []
            },
            "outputs": [],
            "execution_count": null
        },
        {
            "cell_type": "markdown",
            "source": [
                "> **Looking at The total cases and Total Deaths in Vietnam**\n",
                "\n",
                "> **Show how many percent of total cases are death in Vietnam**"
            ],
            "metadata": {
                "language": "sql",
                "azdata_cell_guid": "6ba6642d-70d6-430b-aa02-7c734603944e"
            },
            "attachments": {}
        },
        {
            "cell_type": "code",
            "source": [
                "SELECT \r\n",
                "\tLocation, \r\n",
                "\tdate, \r\n",
                "\ttotal_cases, \r\n",
                "\ttotal_deaths , \r\n",
                "\tROUND((total_deaths/total_cases)*100,2) AS Deaths_percentage\r\n",
                "FROM CovidData\r\n",
                "WHERE Location = 'Vietnam'\r\n",
                "ORDER BY Deaths_percentage DESC"
            ],
            "metadata": {
                "language": "sql",
                "azdata_cell_guid": "4b4ba769-7f0c-4d8f-aeba-7a1a742322fd",
                "tags": []
            },
            "outputs": [],
            "execution_count": null
        },
        {
            "cell_type": "markdown",
            "source": [
                "> **Looking at total cases and total population in Vietnam**\n",
                "\n",
                "> **Show how many percent of total population got covid**"
            ],
            "metadata": {
                "language": "sql",
                "azdata_cell_guid": "28953f39-67ac-49ae-b7c4-8a0e78440e78"
            },
            "attachments": {}
        },
        {
            "cell_type": "code",
            "source": [
                "SELECT \r\n",
                "\tLocation, \r\n",
                "\tdate, \r\n",
                "\ttotal_cases, \r\n",
                "\tpopulation , \r\n",
                "\tROUND((total_cases/population)*100,2) AS Cases_percentage\r\n",
                "FROM CovidData\r\n",
                "WHERE Location = 'Vietnam'\r\n",
                "ORDER BY Cases_percentage DESC"
            ],
            "metadata": {
                "language": "sql",
                "azdata_cell_guid": "70a7dbd1-63ec-4a53-b25d-a09fd6e8727c"
            },
            "outputs": [],
            "execution_count": null
        },
        {
            "cell_type": "markdown",
            "source": [
                "> **Looking at Vaccination Status in Vietnam**\n",
                "\n",
                ">"
            ],
            "metadata": {
                "language": "sql",
                "azdata_cell_guid": "f492619a-cab7-4818-9dde-5d40603e9b4f"
            },
            "attachments": {}
        },
        {
            "cell_type": "code",
            "source": [
                "SELECT\r\n",
                "\tLocation,\r\n",
                "\tYear(date) AS Year,\r\n",
                "\tMAX(total_vaccinations) AS total_Vaccinations,\r\n",
                "\tMAX(people_fully_vaccinated) AS total_peopleFullyVaccinated,\r\n",
                "\tROUND(MAX((people_fully_vaccinated/population)),2) AS PeopleFullyVaccinated_Percentage\r\n",
                "FROM CovidData\r\n",
                "WHERE location ='Vietnam'\r\n",
                "GROUP BY \r\n",
                "\tLocation,\r\n",
                "\tYear(date) \r\n",
                "ORDER BY 5 DESC"
            ],
            "metadata": {
                "language": "sql",
                "azdata_cell_guid": "b9d2e89b-6d22-4734-96c7-4e7cb995b8f8"
            },
            "outputs": [],
            "execution_count": null
        },
        {
            "cell_type": "markdown",
            "source": [
                "## **SOUTHEAST ASIA AREA**"
            ],
            "metadata": {
                "language": "sql",
                "azdata_cell_guid": "53d8dfa3-ae43-438f-8622-8b4afdfd727d"
            },
            "attachments": {}
        },
        {
            "cell_type": "markdown",
            "source": [
                "> **Looking at countries with the highest infection rate compared to the population per country in Southeast Asia area**"
            ],
            "metadata": {
                "language": "sql",
                "azdata_cell_guid": "a7c8bf59-ba17-4615-95c8-09158ebea2b7"
            },
            "attachments": {}
        },
        {
            "cell_type": "code",
            "source": [
                "SELECT \r\n",
                "\tLocation, \r\n",
                "\tpopulation,  \r\n",
                "\tMAX(total_cases) AS HighestInfection, \r\n",
                "\tROUND(MAX((total_cases/population)*100),2) AS populationInfection_percentage\r\n",
                "FROM CovidData\r\n",
                "WHERE location IN(  'Thailand','Vietnam', \r\n",
                "\t\t\t\t\t'Cambodia','Myanmar',\r\n",
                "\t\t\t\t\t'Laos','singapore',\r\n",
                "\t\t\t\t\t'Brunei','timor',\r\n",
                "\t\t\t\t\t'philippines','Indonesia',\r\n",
                "\t\t\t\t\t'Malaysia')\r\n",
                "GROUP BY Location, population\r\n",
                "ORDER BY 4 DESC"
            ],
            "metadata": {
                "language": "sql",
                "azdata_cell_guid": "d7017dce-449e-42f5-bde8-603dbb367b50",
                "tags": []
            },
            "outputs": [],
            "execution_count": null
        },
        {
            "cell_type": "markdown",
            "source": [
                "> **Showing Countries with the highest deaths rate per population in Southeast Asia area**"
            ],
            "metadata": {
                "language": "sql",
                "azdata_cell_guid": "139a65fc-099b-4e7e-aa54-3789050cb1f7"
            },
            "attachments": {}
        },
        {
            "cell_type": "code",
            "source": [
                "SELECT \r\n",
                "\tLocation, \r\n",
                "\tpopulation,  \r\n",
                "\tMAX(Cast(total_deaths as int)) AS HighestDeaths, \r\n",
                "\tROUND(MAX(total_Deaths/population)*100,3) AS populationDeaths_percentage\r\n",
                "FROM CovidData\r\n",
                "WHERE location IN(  'Thailand','Vietnam', \r\n",
                "\t\t\t\t\t'Cambodia','Myanmar',\r\n",
                "\t\t\t\t\t'Laos','singapore',\r\n",
                "\t\t\t\t\t'Brunei','timor',\r\n",
                "\t\t\t\t\t'philippines','Indonesia',\r\n",
                "\t\t\t\t\t'Malaysia')\r\n",
                "GROUP BY Location, population\r\n",
                "ORDER BY 4 DESC"
            ],
            "metadata": {
                "language": "sql",
                "azdata_cell_guid": "a3fd747c-e05d-4a1d-af4d-fdb4d383a425",
                "tags": []
            },
            "outputs": [],
            "execution_count": null
        },
        {
            "cell_type": "markdown",
            "source": [
                "> **Looking at Vaccination Status in Southeast Asia area**"
            ],
            "metadata": {
                "language": "sql",
                "azdata_cell_guid": "0bda1b6b-a9fb-4a80-a2ef-5f0390b838b4"
            },
            "attachments": {}
        },
        {
            "cell_type": "code",
            "source": [
                "SELECT\r\n",
                "\tLocation,\r\n",
                "\tYear(date) AS Year,\r\n",
                "\tMAX(total_vaccinations) AS total_Vaccinations,\r\n",
                "\tMAX(people_fully_vaccinated) AS total_peopleFullyVaccinated,\r\n",
                "\tROUND(MAX((people_fully_vaccinated/population)),2) AS PeopleFullyVaccinated_Percentage\r\n",
                "FROM CovidData\r\n",
                "WHERE location IN(  'Thailand','Vietnam', \r\n",
                "\t\t\t\t\t'Cambodia','Myanmar',\r\n",
                "\t\t\t\t\t'Laos','singapore',\r\n",
                "\t\t\t\t\t'Brunei','timor',\r\n",
                "\t\t\t\t\t'philippines','Indonesia',\r\n",
                "\t\t\t\t\t'Malaysia')\r\n",
                "GROUP BY \r\n",
                "\tLocation,\r\n",
                "\tYear(date) \r\n",
                "ORDER BY 1, 2 DESC"
            ],
            "metadata": {
                "language": "sql",
                "azdata_cell_guid": "b1e6b297-7faf-4e7e-94c2-5ea526e9b7ab",
                "tags": []
            },
            "outputs": [],
            "execution_count": null
        }
    ]
}